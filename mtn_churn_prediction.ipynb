{
  "nbformat": 4,
  "nbformat_minor": 0,
  "metadata": {
    "colab": {
      "provenance": [],
      "authorship_tag": "ABX9TyN/MuoevK35J6WrQ7ZCWFmH",
      "include_colab_link": true
    },
    "kernelspec": {
      "name": "python3",
      "display_name": "Python 3"
    },
    "language_info": {
      "name": "python"
    }
  },
  "cells": [
    {
      "cell_type": "markdown",
      "metadata": {
        "id": "view-in-github",
        "colab_type": "text"
      },
      "source": [
        "<a href=\"https://colab.research.google.com/github/team-ben-okri/mtn-churn-prediction/blob/main/mtn_churn_prediction.ipynb\" target=\"_parent\"><img src=\"https://colab.research.google.com/assets/colab-badge.svg\" alt=\"Open In Colab\"/></a>"
      ]
    },
    {
      "cell_type": "markdown",
      "source": [
        "# MTN Churn Prediction\n",
        "\n",
        "<p align=\"center\">\n",
        "  <img src=\"https://upload.wikimedia.org/wikipedia/fr/thumb/e/e9/Mtn-logo-svg.svg/623px-Mtn-logo-svg.svg.png?20220727031824\"\n",
        "       alt=\"mtn logo\" width=\"1000\"/>\n",
        "</p>\n",
        "\n",
        "### Introduction\n",
        "\n",
        "Lorem ipsum dolor sit amet, consectetur adipiscing elit, sed do eiusmod tempor incididunt ut labore et dolore magna aliqua.\n",
        "\n",
        "### Problem Statement\n",
        "\n",
        "Ut enim ad minim veniam, quis nostrud exercitation ullamco laboris nisi ut aliquip ex ea commodo consequat.\n",
        "\n",
        "### Dataset\n",
        "\n",
        "Duis aute irure dolor in reprehenderit in voluptate velit esse cillum dolore eu fugiat nulla pariatur. Excepteur sint occaecat cupidatat non proident, sunt in culpa qui officia deserunt mollit anim id est laborum.\n",
        "Link to dataset: [Link](https://www.kaggle.com/datasets/oluwademiladeadeniyi/mtn-nigeria-customer-churn)"
      ],
      "metadata": {
        "id": "GEjKIPOqosgj"
      }
    },
    {
      "cell_type": "markdown",
      "source": [
        "## Import necessary libraries"
      ],
      "metadata": {
        "id": "QSdU9pslvAGm"
      }
    },
    {
      "cell_type": "code",
      "execution_count": 1,
      "metadata": {
        "id": "C7YIF4jzYhW0"
      },
      "outputs": [],
      "source": [
        "import numpy as np\n",
        "import pandas as pd\n",
        "import matplotlib.pyplot as plt\n",
        "import seaborn as sns"
      ]
    },
    {
      "cell_type": "markdown",
      "source": [
        "## Load dataset"
      ],
      "metadata": {
        "id": "g0IUToCovFCL"
      }
    },
    {
      "cell_type": "code",
      "source": [
        "data_url = \"https://raw.githubusercontent.com/team-ben-okri/\" \\\n",
        "           \"mtn-churn-prediction/refs/heads/main/data/\" \\\n",
        "           \"mtn_customer_churn.csv\"\n",
        "churn_df = pd.read_csv(data_url)\n",
        "churn_df.head()"
      ],
      "metadata": {
        "colab": {
          "base_uri": "https://localhost:8080/",
          "height": 397
        },
        "id": "hDzD2L0wvIiE",
        "outputId": "175f45a8-31a4-418c-f1e8-eb8a3a1f4df2"
      },
      "execution_count": 2,
      "outputs": [
        {
          "output_type": "execute_result",
          "data": {
            "text/plain": [
              "  Customer ID     Full Name Date of Purchase  Age        State  \\\n",
              "0    CUST0001   Ngozi Berry           Jan-25   27        Kwara   \n",
              "1    CUST0002  Zainab Baker           Mar-25   16  Abuja (FCT)   \n",
              "2    CUST0003   Saidu Evans           Mar-25   21       Sokoto   \n",
              "3    CUST0003   Saidu Evans           Mar-25   21       Sokoto   \n",
              "4    CUST0003   Saidu Evans           Mar-25   21       Sokoto   \n",
              "\n",
              "            MTN Device  Gender  Satisfaction Rate Customer Review  \\\n",
              "0            4G Router    Male                  2            Fair   \n",
              "1      Mobile SIM Card  Female                  2            Fair   \n",
              "2  5G Broadband Router    Male                  1            Poor   \n",
              "3      Mobile SIM Card    Male                  1            Poor   \n",
              "4       Broadband MiFi    Male                  1            Poor   \n",
              "\n",
              "   Customer Tenure in months            Subscription Plan  Unit Price  \\\n",
              "0                          2           165GB Monthly Plan       35000   \n",
              "1                         22          12.5GB Monthly Plan        5500   \n",
              "2                         60  150GB FUP Monthly Unlimited       20000   \n",
              "3                         60       1GB+1.5mins Daily Plan         500   \n",
              "4                         60  30GB Monthly Broadband Plan        9000   \n",
              "\n",
              "   Number of Times Purchased  Total Revenue  Data Usage Customer Churn Status  \\\n",
              "0                         19         665000       44.48                   Yes   \n",
              "1                         12          66000       19.79                   Yes   \n",
              "2                          8         160000        9.64                    No   \n",
              "3                          8           4000      197.05                    No   \n",
              "4                         15         135000       76.34                    No   \n",
              "\n",
              "                Reasons for Churn  \n",
              "0                      Relocation  \n",
              "1  Better Offers from Competitors  \n",
              "2                             NaN  \n",
              "3                             NaN  \n",
              "4                             NaN  "
            ],
            "text/html": [
              "\n",
              "  <div id=\"df-941606d2-69a8-4ca7-ac6d-3a9e52539ae6\" class=\"colab-df-container\">\n",
              "    <div>\n",
              "<style scoped>\n",
              "    .dataframe tbody tr th:only-of-type {\n",
              "        vertical-align: middle;\n",
              "    }\n",
              "\n",
              "    .dataframe tbody tr th {\n",
              "        vertical-align: top;\n",
              "    }\n",
              "\n",
              "    .dataframe thead th {\n",
              "        text-align: right;\n",
              "    }\n",
              "</style>\n",
              "<table border=\"1\" class=\"dataframe\">\n",
              "  <thead>\n",
              "    <tr style=\"text-align: right;\">\n",
              "      <th></th>\n",
              "      <th>Customer ID</th>\n",
              "      <th>Full Name</th>\n",
              "      <th>Date of Purchase</th>\n",
              "      <th>Age</th>\n",
              "      <th>State</th>\n",
              "      <th>MTN Device</th>\n",
              "      <th>Gender</th>\n",
              "      <th>Satisfaction Rate</th>\n",
              "      <th>Customer Review</th>\n",
              "      <th>Customer Tenure in months</th>\n",
              "      <th>Subscription Plan</th>\n",
              "      <th>Unit Price</th>\n",
              "      <th>Number of Times Purchased</th>\n",
              "      <th>Total Revenue</th>\n",
              "      <th>Data Usage</th>\n",
              "      <th>Customer Churn Status</th>\n",
              "      <th>Reasons for Churn</th>\n",
              "    </tr>\n",
              "  </thead>\n",
              "  <tbody>\n",
              "    <tr>\n",
              "      <th>0</th>\n",
              "      <td>CUST0001</td>\n",
              "      <td>Ngozi Berry</td>\n",
              "      <td>Jan-25</td>\n",
              "      <td>27</td>\n",
              "      <td>Kwara</td>\n",
              "      <td>4G Router</td>\n",
              "      <td>Male</td>\n",
              "      <td>2</td>\n",
              "      <td>Fair</td>\n",
              "      <td>2</td>\n",
              "      <td>165GB Monthly Plan</td>\n",
              "      <td>35000</td>\n",
              "      <td>19</td>\n",
              "      <td>665000</td>\n",
              "      <td>44.48</td>\n",
              "      <td>Yes</td>\n",
              "      <td>Relocation</td>\n",
              "    </tr>\n",
              "    <tr>\n",
              "      <th>1</th>\n",
              "      <td>CUST0002</td>\n",
              "      <td>Zainab Baker</td>\n",
              "      <td>Mar-25</td>\n",
              "      <td>16</td>\n",
              "      <td>Abuja (FCT)</td>\n",
              "      <td>Mobile SIM Card</td>\n",
              "      <td>Female</td>\n",
              "      <td>2</td>\n",
              "      <td>Fair</td>\n",
              "      <td>22</td>\n",
              "      <td>12.5GB Monthly Plan</td>\n",
              "      <td>5500</td>\n",
              "      <td>12</td>\n",
              "      <td>66000</td>\n",
              "      <td>19.79</td>\n",
              "      <td>Yes</td>\n",
              "      <td>Better Offers from Competitors</td>\n",
              "    </tr>\n",
              "    <tr>\n",
              "      <th>2</th>\n",
              "      <td>CUST0003</td>\n",
              "      <td>Saidu Evans</td>\n",
              "      <td>Mar-25</td>\n",
              "      <td>21</td>\n",
              "      <td>Sokoto</td>\n",
              "      <td>5G Broadband Router</td>\n",
              "      <td>Male</td>\n",
              "      <td>1</td>\n",
              "      <td>Poor</td>\n",
              "      <td>60</td>\n",
              "      <td>150GB FUP Monthly Unlimited</td>\n",
              "      <td>20000</td>\n",
              "      <td>8</td>\n",
              "      <td>160000</td>\n",
              "      <td>9.64</td>\n",
              "      <td>No</td>\n",
              "      <td>NaN</td>\n",
              "    </tr>\n",
              "    <tr>\n",
              "      <th>3</th>\n",
              "      <td>CUST0003</td>\n",
              "      <td>Saidu Evans</td>\n",
              "      <td>Mar-25</td>\n",
              "      <td>21</td>\n",
              "      <td>Sokoto</td>\n",
              "      <td>Mobile SIM Card</td>\n",
              "      <td>Male</td>\n",
              "      <td>1</td>\n",
              "      <td>Poor</td>\n",
              "      <td>60</td>\n",
              "      <td>1GB+1.5mins Daily Plan</td>\n",
              "      <td>500</td>\n",
              "      <td>8</td>\n",
              "      <td>4000</td>\n",
              "      <td>197.05</td>\n",
              "      <td>No</td>\n",
              "      <td>NaN</td>\n",
              "    </tr>\n",
              "    <tr>\n",
              "      <th>4</th>\n",
              "      <td>CUST0003</td>\n",
              "      <td>Saidu Evans</td>\n",
              "      <td>Mar-25</td>\n",
              "      <td>21</td>\n",
              "      <td>Sokoto</td>\n",
              "      <td>Broadband MiFi</td>\n",
              "      <td>Male</td>\n",
              "      <td>1</td>\n",
              "      <td>Poor</td>\n",
              "      <td>60</td>\n",
              "      <td>30GB Monthly Broadband Plan</td>\n",
              "      <td>9000</td>\n",
              "      <td>15</td>\n",
              "      <td>135000</td>\n",
              "      <td>76.34</td>\n",
              "      <td>No</td>\n",
              "      <td>NaN</td>\n",
              "    </tr>\n",
              "  </tbody>\n",
              "</table>\n",
              "</div>\n",
              "    <div class=\"colab-df-buttons\">\n",
              "\n",
              "  <div class=\"colab-df-container\">\n",
              "    <button class=\"colab-df-convert\" onclick=\"convertToInteractive('df-941606d2-69a8-4ca7-ac6d-3a9e52539ae6')\"\n",
              "            title=\"Convert this dataframe to an interactive table.\"\n",
              "            style=\"display:none;\">\n",
              "\n",
              "  <svg xmlns=\"http://www.w3.org/2000/svg\" height=\"24px\" viewBox=\"0 -960 960 960\">\n",
              "    <path d=\"M120-120v-720h720v720H120Zm60-500h600v-160H180v160Zm220 220h160v-160H400v160Zm0 220h160v-160H400v160ZM180-400h160v-160H180v160Zm440 0h160v-160H620v160ZM180-180h160v-160H180v160Zm440 0h160v-160H620v160Z\"/>\n",
              "  </svg>\n",
              "    </button>\n",
              "\n",
              "  <style>\n",
              "    .colab-df-container {\n",
              "      display:flex;\n",
              "      gap: 12px;\n",
              "    }\n",
              "\n",
              "    .colab-df-convert {\n",
              "      background-color: #E8F0FE;\n",
              "      border: none;\n",
              "      border-radius: 50%;\n",
              "      cursor: pointer;\n",
              "      display: none;\n",
              "      fill: #1967D2;\n",
              "      height: 32px;\n",
              "      padding: 0 0 0 0;\n",
              "      width: 32px;\n",
              "    }\n",
              "\n",
              "    .colab-df-convert:hover {\n",
              "      background-color: #E2EBFA;\n",
              "      box-shadow: 0px 1px 2px rgba(60, 64, 67, 0.3), 0px 1px 3px 1px rgba(60, 64, 67, 0.15);\n",
              "      fill: #174EA6;\n",
              "    }\n",
              "\n",
              "    .colab-df-buttons div {\n",
              "      margin-bottom: 4px;\n",
              "    }\n",
              "\n",
              "    [theme=dark] .colab-df-convert {\n",
              "      background-color: #3B4455;\n",
              "      fill: #D2E3FC;\n",
              "    }\n",
              "\n",
              "    [theme=dark] .colab-df-convert:hover {\n",
              "      background-color: #434B5C;\n",
              "      box-shadow: 0px 1px 3px 1px rgba(0, 0, 0, 0.15);\n",
              "      filter: drop-shadow(0px 1px 2px rgba(0, 0, 0, 0.3));\n",
              "      fill: #FFFFFF;\n",
              "    }\n",
              "  </style>\n",
              "\n",
              "    <script>\n",
              "      const buttonEl =\n",
              "        document.querySelector('#df-941606d2-69a8-4ca7-ac6d-3a9e52539ae6 button.colab-df-convert');\n",
              "      buttonEl.style.display =\n",
              "        google.colab.kernel.accessAllowed ? 'block' : 'none';\n",
              "\n",
              "      async function convertToInteractive(key) {\n",
              "        const element = document.querySelector('#df-941606d2-69a8-4ca7-ac6d-3a9e52539ae6');\n",
              "        const dataTable =\n",
              "          await google.colab.kernel.invokeFunction('convertToInteractive',\n",
              "                                                    [key], {});\n",
              "        if (!dataTable) return;\n",
              "\n",
              "        const docLinkHtml = 'Like what you see? Visit the ' +\n",
              "          '<a target=\"_blank\" href=https://colab.research.google.com/notebooks/data_table.ipynb>data table notebook</a>'\n",
              "          + ' to learn more about interactive tables.';\n",
              "        element.innerHTML = '';\n",
              "        dataTable['output_type'] = 'display_data';\n",
              "        await google.colab.output.renderOutput(dataTable, element);\n",
              "        const docLink = document.createElement('div');\n",
              "        docLink.innerHTML = docLinkHtml;\n",
              "        element.appendChild(docLink);\n",
              "      }\n",
              "    </script>\n",
              "  </div>\n",
              "\n",
              "\n",
              "    <div id=\"df-0b05e682-6d2e-4ca4-baea-56db0a4a9767\">\n",
              "      <button class=\"colab-df-quickchart\" onclick=\"quickchart('df-0b05e682-6d2e-4ca4-baea-56db0a4a9767')\"\n",
              "                title=\"Suggest charts\"\n",
              "                style=\"display:none;\">\n",
              "\n",
              "<svg xmlns=\"http://www.w3.org/2000/svg\" height=\"24px\"viewBox=\"0 0 24 24\"\n",
              "     width=\"24px\">\n",
              "    <g>\n",
              "        <path d=\"M19 3H5c-1.1 0-2 .9-2 2v14c0 1.1.9 2 2 2h14c1.1 0 2-.9 2-2V5c0-1.1-.9-2-2-2zM9 17H7v-7h2v7zm4 0h-2V7h2v10zm4 0h-2v-4h2v4z\"/>\n",
              "    </g>\n",
              "</svg>\n",
              "      </button>\n",
              "\n",
              "<style>\n",
              "  .colab-df-quickchart {\n",
              "      --bg-color: #E8F0FE;\n",
              "      --fill-color: #1967D2;\n",
              "      --hover-bg-color: #E2EBFA;\n",
              "      --hover-fill-color: #174EA6;\n",
              "      --disabled-fill-color: #AAA;\n",
              "      --disabled-bg-color: #DDD;\n",
              "  }\n",
              "\n",
              "  [theme=dark] .colab-df-quickchart {\n",
              "      --bg-color: #3B4455;\n",
              "      --fill-color: #D2E3FC;\n",
              "      --hover-bg-color: #434B5C;\n",
              "      --hover-fill-color: #FFFFFF;\n",
              "      --disabled-bg-color: #3B4455;\n",
              "      --disabled-fill-color: #666;\n",
              "  }\n",
              "\n",
              "  .colab-df-quickchart {\n",
              "    background-color: var(--bg-color);\n",
              "    border: none;\n",
              "    border-radius: 50%;\n",
              "    cursor: pointer;\n",
              "    display: none;\n",
              "    fill: var(--fill-color);\n",
              "    height: 32px;\n",
              "    padding: 0;\n",
              "    width: 32px;\n",
              "  }\n",
              "\n",
              "  .colab-df-quickchart:hover {\n",
              "    background-color: var(--hover-bg-color);\n",
              "    box-shadow: 0 1px 2px rgba(60, 64, 67, 0.3), 0 1px 3px 1px rgba(60, 64, 67, 0.15);\n",
              "    fill: var(--button-hover-fill-color);\n",
              "  }\n",
              "\n",
              "  .colab-df-quickchart-complete:disabled,\n",
              "  .colab-df-quickchart-complete:disabled:hover {\n",
              "    background-color: var(--disabled-bg-color);\n",
              "    fill: var(--disabled-fill-color);\n",
              "    box-shadow: none;\n",
              "  }\n",
              "\n",
              "  .colab-df-spinner {\n",
              "    border: 2px solid var(--fill-color);\n",
              "    border-color: transparent;\n",
              "    border-bottom-color: var(--fill-color);\n",
              "    animation:\n",
              "      spin 1s steps(1) infinite;\n",
              "  }\n",
              "\n",
              "  @keyframes spin {\n",
              "    0% {\n",
              "      border-color: transparent;\n",
              "      border-bottom-color: var(--fill-color);\n",
              "      border-left-color: var(--fill-color);\n",
              "    }\n",
              "    20% {\n",
              "      border-color: transparent;\n",
              "      border-left-color: var(--fill-color);\n",
              "      border-top-color: var(--fill-color);\n",
              "    }\n",
              "    30% {\n",
              "      border-color: transparent;\n",
              "      border-left-color: var(--fill-color);\n",
              "      border-top-color: var(--fill-color);\n",
              "      border-right-color: var(--fill-color);\n",
              "    }\n",
              "    40% {\n",
              "      border-color: transparent;\n",
              "      border-right-color: var(--fill-color);\n",
              "      border-top-color: var(--fill-color);\n",
              "    }\n",
              "    60% {\n",
              "      border-color: transparent;\n",
              "      border-right-color: var(--fill-color);\n",
              "    }\n",
              "    80% {\n",
              "      border-color: transparent;\n",
              "      border-right-color: var(--fill-color);\n",
              "      border-bottom-color: var(--fill-color);\n",
              "    }\n",
              "    90% {\n",
              "      border-color: transparent;\n",
              "      border-bottom-color: var(--fill-color);\n",
              "    }\n",
              "  }\n",
              "</style>\n",
              "\n",
              "      <script>\n",
              "        async function quickchart(key) {\n",
              "          const quickchartButtonEl =\n",
              "            document.querySelector('#' + key + ' button');\n",
              "          quickchartButtonEl.disabled = true;  // To prevent multiple clicks.\n",
              "          quickchartButtonEl.classList.add('colab-df-spinner');\n",
              "          try {\n",
              "            const charts = await google.colab.kernel.invokeFunction(\n",
              "                'suggestCharts', [key], {});\n",
              "          } catch (error) {\n",
              "            console.error('Error during call to suggestCharts:', error);\n",
              "          }\n",
              "          quickchartButtonEl.classList.remove('colab-df-spinner');\n",
              "          quickchartButtonEl.classList.add('colab-df-quickchart-complete');\n",
              "        }\n",
              "        (() => {\n",
              "          let quickchartButtonEl =\n",
              "            document.querySelector('#df-0b05e682-6d2e-4ca4-baea-56db0a4a9767 button');\n",
              "          quickchartButtonEl.style.display =\n",
              "            google.colab.kernel.accessAllowed ? 'block' : 'none';\n",
              "        })();\n",
              "      </script>\n",
              "    </div>\n",
              "\n",
              "    </div>\n",
              "  </div>\n"
            ],
            "application/vnd.google.colaboratory.intrinsic+json": {
              "type": "dataframe",
              "variable_name": "churn_df",
              "summary": "{\n  \"name\": \"churn_df\",\n  \"rows\": 974,\n  \"fields\": [\n    {\n      \"column\": \"Customer ID\",\n      \"properties\": {\n        \"dtype\": \"string\",\n        \"num_unique_values\": 496,\n        \"samples\": [\n          \"CUST0460\",\n          \"CUST0074\",\n          \"CUST0233\"\n        ],\n        \"semantic_type\": \"\",\n        \"description\": \"\"\n      }\n    },\n    {\n      \"column\": \"Full Name\",\n      \"properties\": {\n        \"dtype\": \"category\",\n        \"num_unique_values\": 484,\n        \"samples\": [\n          \"Amina Skinner\",\n          \"Funke Smith\",\n          \"Ngozi Webb\"\n        ],\n        \"semantic_type\": \"\",\n        \"description\": \"\"\n      }\n    },\n    {\n      \"column\": \"Date of Purchase\",\n      \"properties\": {\n        \"dtype\": \"category\",\n        \"num_unique_values\": 3,\n        \"samples\": [\n          \"Jan-25\",\n          \"Mar-25\",\n          \"Feb-25\"\n        ],\n        \"semantic_type\": \"\",\n        \"description\": \"\"\n      }\n    },\n    {\n      \"column\": \"Age\",\n      \"properties\": {\n        \"dtype\": \"number\",\n        \"std\": 17,\n        \"min\": 16,\n        \"max\": 80,\n        \"num_unique_values\": 65,\n        \"samples\": [\n          47,\n          37,\n          27\n        ],\n        \"semantic_type\": \"\",\n        \"description\": \"\"\n      }\n    },\n    {\n      \"column\": \"State\",\n      \"properties\": {\n        \"dtype\": \"category\",\n        \"num_unique_values\": 35,\n        \"samples\": [\n          \"Bayelsa\",\n          \"Anambra\",\n          \"Abia\"\n        ],\n        \"semantic_type\": \"\",\n        \"description\": \"\"\n      }\n    },\n    {\n      \"column\": \"MTN Device\",\n      \"properties\": {\n        \"dtype\": \"category\",\n        \"num_unique_values\": 4,\n        \"samples\": [\n          \"Mobile SIM Card\",\n          \"Broadband MiFi\",\n          \"4G Router\"\n        ],\n        \"semantic_type\": \"\",\n        \"description\": \"\"\n      }\n    },\n    {\n      \"column\": \"Gender\",\n      \"properties\": {\n        \"dtype\": \"category\",\n        \"num_unique_values\": 2,\n        \"samples\": [\n          \"Female\",\n          \"Male\"\n        ],\n        \"semantic_type\": \"\",\n        \"description\": \"\"\n      }\n    },\n    {\n      \"column\": \"Satisfaction Rate\",\n      \"properties\": {\n        \"dtype\": \"number\",\n        \"std\": 1,\n        \"min\": 1,\n        \"max\": 5,\n        \"num_unique_values\": 5,\n        \"samples\": [\n          1,\n          4\n        ],\n        \"semantic_type\": \"\",\n        \"description\": \"\"\n      }\n    },\n    {\n      \"column\": \"Customer Review\",\n      \"properties\": {\n        \"dtype\": \"category\",\n        \"num_unique_values\": 5,\n        \"samples\": [\n          \"Poor\",\n          \"Very Good\"\n        ],\n        \"semantic_type\": \"\",\n        \"description\": \"\"\n      }\n    },\n    {\n      \"column\": \"Customer Tenure in months\",\n      \"properties\": {\n        \"dtype\": \"number\",\n        \"std\": 17,\n        \"min\": 1,\n        \"max\": 60,\n        \"num_unique_values\": 60,\n        \"samples\": [\n          2,\n          9\n        ],\n        \"semantic_type\": \"\",\n        \"description\": \"\"\n      }\n    },\n    {\n      \"column\": \"Subscription Plan\",\n      \"properties\": {\n        \"dtype\": \"category\",\n        \"num_unique_values\": 21,\n        \"samples\": [\n          \"165GB Monthly Plan\",\n          \"450GB 3-Month Broadband Plan\"\n        ],\n        \"semantic_type\": \"\",\n        \"description\": \"\"\n      }\n    },\n    {\n      \"column\": \"Unit Price\",\n      \"properties\": {\n        \"dtype\": \"number\",\n        \"std\": 25586,\n        \"min\": 350,\n        \"max\": 150000,\n        \"num_unique_values\": 20,\n        \"samples\": [\n          35000,\n          25000\n        ],\n        \"semantic_type\": \"\",\n        \"description\": \"\"\n      }\n    },\n    {\n      \"column\": \"Number of Times Purchased\",\n      \"properties\": {\n        \"dtype\": \"number\",\n        \"std\": 5,\n        \"min\": 1,\n        \"max\": 20,\n        \"num_unique_values\": 20,\n        \"samples\": [\n          19,\n          14\n        ],\n        \"semantic_type\": \"\",\n        \"description\": \"\"\n      }\n    },\n    {\n      \"column\": \"Total Revenue\",\n      \"properties\": {\n        \"dtype\": \"number\",\n        \"std\": 324785,\n        \"min\": 350,\n        \"max\": 3000000,\n        \"num_unique_values\": 245,\n        \"samples\": [\n          330000,\n          144000\n        ],\n        \"semantic_type\": \"\",\n        \"description\": \"\"\n      }\n    },\n    {\n      \"column\": \"Data Usage\",\n      \"properties\": {\n        \"dtype\": \"number\",\n        \"std\": 57.73951072499901,\n        \"min\": 0.82,\n        \"max\": 200.0,\n        \"num_unique_values\": 954,\n        \"samples\": [\n          136.18,\n          59.99\n        ],\n        \"semantic_type\": \"\",\n        \"description\": \"\"\n      }\n    },\n    {\n      \"column\": \"Customer Churn Status\",\n      \"properties\": {\n        \"dtype\": \"category\",\n        \"num_unique_values\": 2,\n        \"samples\": [\n          \"No\",\n          \"Yes\"\n        ],\n        \"semantic_type\": \"\",\n        \"description\": \"\"\n      }\n    },\n    {\n      \"column\": \"Reasons for Churn\",\n      \"properties\": {\n        \"dtype\": \"category\",\n        \"num_unique_values\": 7,\n        \"samples\": [\n          \"Relocation\",\n          \"Better Offers from Competitors\"\n        ],\n        \"semantic_type\": \"\",\n        \"description\": \"\"\n      }\n    }\n  ]\n}"
            }
          },
          "metadata": {},
          "execution_count": 2
        }
      ]
    },
    {
      "cell_type": "markdown",
      "source": [
        "## Exploratory Data Analysis (EDA)"
      ],
      "metadata": {
        "id": "TQqaQ1XyxjQw"
      }
    },
    {
      "cell_type": "code",
      "source": [
        "churn_df.info()"
      ],
      "metadata": {
        "colab": {
          "base_uri": "https://localhost:8080/"
        },
        "id": "YlnaqcBxxEk9",
        "outputId": "df472028-0917-427c-dd7a-0a9f82dfc636"
      },
      "execution_count": 3,
      "outputs": [
        {
          "output_type": "stream",
          "name": "stdout",
          "text": [
            "<class 'pandas.core.frame.DataFrame'>\n",
            "RangeIndex: 974 entries, 0 to 973\n",
            "Data columns (total 17 columns):\n",
            " #   Column                     Non-Null Count  Dtype  \n",
            "---  ------                     --------------  -----  \n",
            " 0   Customer ID                974 non-null    object \n",
            " 1   Full Name                  974 non-null    object \n",
            " 2   Date of Purchase           974 non-null    object \n",
            " 3   Age                        974 non-null    int64  \n",
            " 4   State                      974 non-null    object \n",
            " 5   MTN Device                 974 non-null    object \n",
            " 6   Gender                     974 non-null    object \n",
            " 7   Satisfaction Rate          974 non-null    int64  \n",
            " 8   Customer Review            974 non-null    object \n",
            " 9   Customer Tenure in months  974 non-null    int64  \n",
            " 10  Subscription Plan          974 non-null    object \n",
            " 11  Unit Price                 974 non-null    int64  \n",
            " 12  Number of Times Purchased  974 non-null    int64  \n",
            " 13  Total Revenue              974 non-null    int64  \n",
            " 14  Data Usage                 974 non-null    float64\n",
            " 15  Customer Churn Status      974 non-null    object \n",
            " 16  Reasons for Churn          284 non-null    object \n",
            "dtypes: float64(1), int64(6), object(10)\n",
            "memory usage: 129.5+ KB\n"
          ]
        }
      ]
    },
    {
      "cell_type": "markdown",
      "source": [
        "#### Target Variable Distribution (**`Customer Churn Status`**)"
      ],
      "metadata": {
        "id": "BW42oV_Lx5ly"
      }
    },
    {
      "cell_type": "code",
      "source": [],
      "metadata": {
        "id": "AU__kIn9xmkq"
      },
      "execution_count": null,
      "outputs": []
    },
    {
      "cell_type": "markdown",
      "source": [
        "#### Numerical Features Analysis"
      ],
      "metadata": {
        "id": "CryokObLyCBR"
      }
    },
    {
      "cell_type": "code",
      "source": [],
      "metadata": {
        "id": "8_wPAk8ByC9U"
      },
      "execution_count": null,
      "outputs": []
    },
    {
      "cell_type": "markdown",
      "source": [
        "#### Categorical Features Analysis"
      ],
      "metadata": {
        "id": "kKwOY5BlyGA9"
      }
    },
    {
      "cell_type": "code",
      "source": [],
      "metadata": {
        "id": "E_P2V_u_yGYk"
      },
      "execution_count": null,
      "outputs": []
    },
    {
      "cell_type": "markdown",
      "source": [
        "#### Correlation Analysis"
      ],
      "metadata": {
        "id": "Z1LaaDRVyLOS"
      }
    },
    {
      "cell_type": "code",
      "source": [],
      "metadata": {
        "id": "pGhhsyYKyLov"
      },
      "execution_count": null,
      "outputs": []
    },
    {
      "cell_type": "markdown",
      "source": [
        "#### State Insights"
      ],
      "metadata": {
        "id": "6Se7Iin6ySCH"
      }
    },
    {
      "cell_type": "code",
      "source": [],
      "metadata": {
        "id": "WGUW9y-JyTfb"
      },
      "execution_count": null,
      "outputs": []
    },
    {
      "cell_type": "markdown",
      "source": [
        "## Feature Engineering & Modeling"
      ],
      "metadata": {
        "id": "LS-OUSN0yuRf"
      }
    },
    {
      "cell_type": "code",
      "source": [],
      "metadata": {
        "id": "e2efy7BdyzPC"
      },
      "execution_count": null,
      "outputs": []
    },
    {
      "cell_type": "markdown",
      "source": [
        "## Model Evaluation"
      ],
      "metadata": {
        "id": "O9o-_-jny3_H"
      }
    },
    {
      "cell_type": "code",
      "source": [],
      "metadata": {
        "id": "SwPSGtNOy5lk"
      },
      "execution_count": null,
      "outputs": []
    },
    {
      "cell_type": "markdown",
      "source": [
        "## Conclusion"
      ],
      "metadata": {
        "id": "8UYxiZ24zCZ4"
      }
    },
    {
      "cell_type": "markdown",
      "source": [
        "Sed ut perspiciatis unde omnis iste natus error sit voluptatem accusantium doloremque laudantium, totam rem aperiam, eaque ipsa quae ab illo inventore veritatis et quasi architecto beatae vitae dicta sunt explicabo. Nemo enim ipsam voluptatem quia voluptas sit aspernatur aut odit aut fugit, sed quia consequuntur magni dolores eos qui ratione voluptatem sequi nesciunt."
      ],
      "metadata": {
        "id": "kY_2IHnDzIo-"
      }
    }
  ]
}